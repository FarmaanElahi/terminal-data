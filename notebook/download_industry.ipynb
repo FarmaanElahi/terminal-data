{
 "cells": [
  {
   "cell_type": "code",
   "id": "initial_id",
   "metadata": {
    "collapsed": true
   },
   "source": "! pip install pandas requests",
   "outputs": [],
   "execution_count": null
  },
  {
   "metadata": {},
   "cell_type": "code",
   "source": [
    "import requests\n",
    "import csv\n",
    "import pandas as pd\n",
    "from io import StringIO"
   ],
   "id": "af3147c0050600a8",
   "outputs": [],
   "execution_count": null
  },
  {
   "metadata": {},
   "cell_type": "code",
   "source": [
    "#URLs\n",
    "BASE_URL = \"https://www.nseindia.com\"\n",
    "COOKIE_URL = f\"{BASE_URL}/get-quotes/equity?symbol=RELIANCE\"\n",
    "API_URL = \"https://www.nseindia.com/api/quote-equity?symbol={symbol}\"\n",
    "SYMBOL_LIST_URL = \"https://nsearchives.nseindia.com/content/equities/EQUITY_L.csv\"\n",
    "\n",
    "# Headers for requests\n",
    "HEADERS = {\n",
    "    \"User-Agent\": \"Mozilla/5.0 (Windows NT 10.0; Win64; x64) AppleWebKit/537.36 (KHTML, like Gecko) Chrome/110.0.0.0 Safari/537.36\",\n",
    "    \"Accept\": \"application/json, text/javascript, */*; q=0.01\",\n",
    "    \"Referer\": BASE_URL\n",
    "}"
   ],
   "id": "3d1cb5536d3f2ddb",
   "outputs": [],
   "execution_count": null
  },
  {
   "metadata": {},
   "cell_type": "code",
   "source": [
    "import ocifs\n",
    "import os\n",
    "\n",
    "oci_config = os.environ.get(\"OCI_CONFIG\")\n",
    "oci_key_content = os.environ.get(\"OCI_KEY\")\n",
    "oci_bucket = os.environ.get(\"OCI_BUCKET\")\n",
    "\n",
    "if oci_config is None or oci_key_content is None or oci_bucket is None:\n",
    "    raise KeyError(\"Missing OCI config\")\n",
    "\n",
    "OCI_PRIVATE_KEY_PATH = \"./key.pem\"\n",
    "with open(OCI_PRIVATE_KEY_PATH, \"w\") as key_file:\n",
    "    key_file.write(oci_key_content)\n",
    "    OCI_PRIVATE_KEY_PATH = key_file.name  # Full URL\n",
    "\n",
    "OCI_CONFIG_PATH = \"./config\"\n",
    "with open(OCI_CONFIG_PATH, \"w\") as config_file:\n",
    "    oci_config += f'\\nkey_file={OCI_PRIVATE_KEY_PATH}'\n",
    "    config_file.write(oci_config)\n",
    "    OCI_CONFIG_PATH = config_file.name\n",
    "\n",
    "storage_options = {\"config\": OCI_CONFIG_PATH}\n",
    "print(\"OCI FS Configured\")"
   ],
   "id": "bae5d63f6aaf615d",
   "outputs": [],
   "execution_count": null
  },
  {
   "metadata": {},
   "cell_type": "code",
   "source": [
    "def fetch_symbol_list():\n",
    "    \"\"\"Fetch the list of symbols from NSE's EQUITY_L.csv\"\"\"\n",
    "    response = requests.get(SYMBOL_LIST_URL, headers=HEADERS)\n",
    "    response.raise_for_status()\n",
    "    df = pd.read_csv(StringIO(response.text))\n",
    "    return df[\"SYMBOL\"].dropna().tolist()  # Extract only the SYMBOL column"
   ],
   "id": "11a7a93fad847e95",
   "outputs": [],
   "execution_count": null
  },
  {
   "metadata": {},
   "cell_type": "code",
   "source": [
    "def fetch_nse_industry_info(symbols):\n",
    "    \"\"\"Fetch industry info for symbols and save to a CSV file using pandas\"\"\"\n",
    "    with requests.Session() as session:\n",
    "        # Load initial cookie\n",
    "        session.get(COOKIE_URL, headers=HEADERS)\n",
    "        industry_data = []  # List to store data\n",
    "\n",
    "        for symbol in symbols:\n",
    "            try:\n",
    "                url = API_URL.format(symbol=symbol)\n",
    "                response = session.get(url, headers=HEADERS)\n",
    "                response.raise_for_status()\n",
    "                data = response.json()\n",
    "\n",
    "                # Extract industry information\n",
    "                industry_info = data.get(\"industryInfo\", {})\n",
    "                macro = industry_info.get(\"macro\", \"N/A\")\n",
    "                sector = industry_info.get(\"sector\", \"N/A\")\n",
    "                industry = industry_info.get(\"industry\", \"N/A\")\n",
    "                basic_industry = industry_info.get(\"basicIndustry\", \"N/A\")\n",
    "\n",
    "                # Append to list\n",
    "                industry_data.append([symbol, macro, sector, industry, basic_industry])\n",
    "                print(f\"Data for {symbol} saved.\")\n",
    "            except requests.exceptions.RequestException as e:\n",
    "                print(f\"Error fetching data for {symbol}: {e}\")\n",
    "\n",
    "        # Convert to DataFrame and save to CSV\n",
    "        return pd.DataFrame(industry_data, columns=[\"Symbol\", \"Macro\", \"Sector\", \"Industry\", \"Basic Industry\"])\n"
   ],
   "id": "acb728ef39409e22",
   "outputs": [],
   "execution_count": null
  },
  {
   "metadata": {},
   "cell_type": "code",
   "source": "symbols_list = fetch_symbol_list()",
   "id": "8e9c3f0b6cb69008",
   "outputs": [],
   "execution_count": null
  },
  {
   "metadata": {},
   "cell_type": "code",
   "source": "df = fetch_nse_industry_info(symbols_list)",
   "id": "88c2ad82d8ba9553",
   "outputs": [],
   "execution_count": null
  },
  {
   "metadata": {},
   "cell_type": "code",
   "source": [
    "df.to_csv(f'oci://{oci_bucket}/nse_industry_symbols.csv', index=False, storage_options=storage_options)\n",
    "print(f\"Data saved\")"
   ],
   "id": "69dcc9fb01a27d2f",
   "outputs": [],
   "execution_count": null
  }
 ],
 "metadata": {
  "kernelspec": {
   "display_name": "Python 3",
   "language": "python",
   "name": "python3"
  },
  "language_info": {
   "codemirror_mode": {
    "name": "ipython",
    "version": 2
   },
   "file_extension": ".py",
   "mimetype": "text/x-python",
   "name": "python",
   "nbconvert_exporter": "python",
   "pygments_lexer": "ipython2",
   "version": "2.7.6"
  }
 },
 "nbformat": 4,
 "nbformat_minor": 5
}
