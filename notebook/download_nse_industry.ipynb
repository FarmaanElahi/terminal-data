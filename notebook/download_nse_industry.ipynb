{
 "cells": [
  {
   "metadata": {
    "ExecuteTime": {
     "end_time": "2025-03-15T20:23:26.903862Z",
     "start_time": "2025-03-15T20:23:24.724398Z"
    }
   },
   "cell_type": "code",
   "source": [
    "import requests\n",
    "import csv\n",
    "import pandas as pd\n",
    "from io import StringIO"
   ],
   "id": "8351510d480794cd",
   "outputs": [],
   "execution_count": 23
  },
  {
   "metadata": {
    "ExecuteTime": {
     "end_time": "2025-03-15T19:59:53.196893Z",
     "start_time": "2025-03-15T19:59:53.194220Z"
    }
   },
   "cell_type": "code",
   "source": [
    "#URLs\n",
    "BASE_URL = \"https://www.nseindia.com\"\n",
    "COOKIE_URL = f\"{BASE_URL}/get-quotes/equity?symbol=RELIANCE\"\n",
    "API_URL = \"https://www.nseindia.com/api/quote-equity?symbol={symbol}\"\n",
    "SYMBOL_LIST_URL = \"https://nsearchives.nseindia.com/content/equities/EQUITY_L.csv\"\n",
    "\n",
    "# Headers for requests\n",
    "HEADERS = {\n",
    "    \"User-Agent\": \"Mozilla/5.0 (Windows NT 10.0; Win64; x64) AppleWebKit/537.36 (KHTML, like Gecko) Chrome/110.0.0.0 Safari/537.36\",\n",
    "    \"Accept\": \"application/json, text/javascript, */*; q=0.01\",\n",
    "    \"Referer\": BASE_URL\n",
    "}"
   ],
   "id": "dec2a47f7b57ad41",
   "outputs": [],
   "execution_count": 3
  },
  {
   "metadata": {
    "ExecuteTime": {
     "end_time": "2025-03-15T20:22:22.023703Z",
     "start_time": "2025-03-15T20:22:21.972617Z"
    }
   },
   "cell_type": "code",
   "source": [
    "import ocifs\n",
    "import os\n",
    "\n",
    "oci_config = os.environ.get(\"OCI_CONFIG\")\n",
    "oci_key_content = os.environ.get(\"OCI_KEY\")\n",
    "oci_bucket = os.environ.get(\"OCI_BUCKET\")\n",
    "\n",
    "if oci_config is None or oci_key_content is None or oci_bucket is None:\n",
    "    raise KeyError(\"Missing OCI config\")\n",
    "\n",
    "OCI_PRIVATE_KEY_PATH = \"./key.pem\"\n",
    "with open(OCI_PRIVATE_KEY_PATH, \"w\") as key_file:\n",
    "    key_file.write(oci_key_content)\n",
    "    OCI_PRIVATE_KEY_PATH = key_file.name  # Full URL\n",
    "\n",
    "OCI_CONFIG_PATH = \"./config\"\n",
    "with open(OCI_CONFIG_PATH, \"w\") as config_file:\n",
    "    oci_config += f'\\nkey_file={OCI_PRIVATE_KEY_PATH}'\n",
    "    config_file.write(oci_config)\n",
    "    OCI_CONFIG_PATH = config_file.name\n",
    "\n",
    "storage_options = {\"config\": OCI_CONFIG_PATH}\n",
    "print(\"OCI FS Configured\")"
   ],
   "id": "b500dcd86bff3024",
   "outputs": [
    {
     "ename": "KeyError",
     "evalue": "'Missing OCI config'",
     "output_type": "error",
     "traceback": [
      "\u001B[0;31m---------------------------------------------------------------------------\u001B[0m",
      "\u001B[0;31mKeyError\u001B[0m                                  Traceback (most recent call last)",
      "Cell \u001B[0;32mIn[18], line 9\u001B[0m\n\u001B[1;32m      6\u001B[0m oci_bucket \u001B[38;5;241m=\u001B[39m os\u001B[38;5;241m.\u001B[39menviron\u001B[38;5;241m.\u001B[39mget(\u001B[38;5;124m\"\u001B[39m\u001B[38;5;124mOCI_BUCKET\u001B[39m\u001B[38;5;124m\"\u001B[39m)\n\u001B[1;32m      8\u001B[0m \u001B[38;5;28;01mif\u001B[39;00m oci_config \u001B[38;5;129;01mis\u001B[39;00m \u001B[38;5;28;01mNone\u001B[39;00m \u001B[38;5;129;01mor\u001B[39;00m oci_key_content \u001B[38;5;129;01mis\u001B[39;00m \u001B[38;5;28;01mNone\u001B[39;00m \u001B[38;5;129;01mor\u001B[39;00m oci_bucket \u001B[38;5;129;01mis\u001B[39;00m \u001B[38;5;28;01mNone\u001B[39;00m:\n\u001B[0;32m----> 9\u001B[0m     \u001B[38;5;28;01mraise\u001B[39;00m \u001B[38;5;167;01mKeyError\u001B[39;00m(\u001B[38;5;124m\"\u001B[39m\u001B[38;5;124mMissing OCI config\u001B[39m\u001B[38;5;124m\"\u001B[39m)\n\u001B[1;32m     11\u001B[0m OCI_PRIVATE_KEY_PATH \u001B[38;5;241m=\u001B[39m \u001B[38;5;124m\"\u001B[39m\u001B[38;5;124m./key.pem\u001B[39m\u001B[38;5;124m\"\u001B[39m\n\u001B[1;32m     12\u001B[0m \u001B[38;5;28;01mwith\u001B[39;00m \u001B[38;5;28mopen\u001B[39m(OCI_PRIVATE_KEY_PATH, \u001B[38;5;124m\"\u001B[39m\u001B[38;5;124mw\u001B[39m\u001B[38;5;124m\"\u001B[39m) \u001B[38;5;28;01mas\u001B[39;00m key_file:\n",
      "\u001B[0;31mKeyError\u001B[0m: 'Missing OCI config'"
     ]
    }
   ],
   "execution_count": 18
  },
  {
   "metadata": {
    "ExecuteTime": {
     "end_time": "2025-03-15T20:23:19.639251Z",
     "start_time": "2025-03-15T20:23:19.636572Z"
    }
   },
   "cell_type": "code",
   "source": [
    "def fetch_symbol_list():\n",
    "    \"\"\"Fetch the list of symbols from NSE's EQUITY_L.csv\"\"\"\n",
    "    response = requests.get(SYMBOL_LIST_URL, headers=HEADERS)\n",
    "    response.raise_for_status()\n",
    "    df = pd.read_csv(StringIO(response.text))\n",
    "    return df[\"SYMBOL\"].dropna().tolist()  # Extract only the SYMBOL column"
   ],
   "id": "cadf9ab69f414032",
   "outputs": [],
   "execution_count": 22
  },
  {
   "metadata": {
    "ExecuteTime": {
     "end_time": "2025-03-15T20:26:57.124191Z",
     "start_time": "2025-03-15T20:26:57.119952Z"
    }
   },
   "cell_type": "code",
   "source": [
    "def fetch_nse_industry_info(symbols):\n",
    "    \"\"\"Fetch industry info for symbols and save to a CSV file using pandas\"\"\"\n",
    "    with requests.Session() as session:\n",
    "        # Load initial cookie\n",
    "        session.get(COOKIE_URL, headers=HEADERS)\n",
    "        industry_data = []  # List to store data\n",
    "\n",
    "        for symbol in symbols:\n",
    "            try:\n",
    "                url = API_URL.format(symbol=symbol)\n",
    "                response = session.get(url, headers=HEADERS)\n",
    "                response.raise_for_status()\n",
    "                data = response.json()\n",
    "\n",
    "                # Extract industry information\n",
    "                industry_info = data.get(\"industryInfo\", {})\n",
    "                macro = industry_info.get(\"macro\", \"N/A\")\n",
    "                sector = industry_info.get(\"sector\", \"N/A\")\n",
    "                industry = industry_info.get(\"industry\", \"N/A\")\n",
    "                basic_industry = industry_info.get(\"basicIndustry\", \"N/A\")\n",
    "\n",
    "                # Append to list\n",
    "                industry_data.append([symbol, macro, sector, industry, basic_industry])\n",
    "                print(f\"Data for {symbol} saved.\")\n",
    "            except requests.exceptions.RequestException as e:\n",
    "                print(f\"Error fetching data for {symbol}: {e}\")\n",
    "\n",
    "        # Convert to DataFrame and save to CSV\n",
    "        return pd.DataFrame(industry_data, columns=[\"Symbol\", \"Macro\", \"Sector\", \"Industry\", \"Basic Industry\"])\n"
   ],
   "id": "ea9b0cb75afe717f",
   "outputs": [],
   "execution_count": 29
  },
  {
   "metadata": {
    "ExecuteTime": {
     "end_time": "2025-03-15T20:26:59.385286Z",
     "start_time": "2025-03-15T20:26:58.309530Z"
    }
   },
   "cell_type": "code",
   "source": "symbols_list = fetch_symbol_list()[0:10]",
   "id": "a697be158ce07346",
   "outputs": [],
   "execution_count": 30
  },
  {
   "metadata": {
    "ExecuteTime": {
     "end_time": "2025-03-15T20:27:04.533554Z",
     "start_time": "2025-03-15T20:27:00.439317Z"
    }
   },
   "cell_type": "code",
   "source": "df = fetch_nse_industry_info(symbols_list)",
   "id": "f66b42d838260951",
   "outputs": [
    {
     "name": "stdout",
     "output_type": "stream",
     "text": [
      "Data for 20MICRONS saved.\n",
      "Data for 21STCENMGM saved.\n",
      "Data for 360ONE saved.\n",
      "Data for 3IINFOLTD saved.\n",
      "Data for 3MINDIA saved.\n",
      "Data for 3PLAND saved.\n",
      "Data for 5PAISA saved.\n",
      "Data for 63MOONS saved.\n",
      "Data for A2ZINFRA saved.\n",
      "Data for AAATECH saved.\n"
     ]
    }
   ],
   "execution_count": 31
  },
  {
   "metadata": {
    "ExecuteTime": {
     "end_time": "2025-03-15T20:27:06.055062Z",
     "start_time": "2025-03-15T20:27:06.050902Z"
    }
   },
   "cell_type": "code",
   "source": [
    "df.to_csv(f'oci://{oci_bucket}/nse_industry_symbols.csv', index=False)\n",
    "print(f\"Data saved\")"
   ],
   "id": "84a6a3a7b6e4c3ee",
   "outputs": [
    {
     "name": "stdout",
     "output_type": "stream",
     "text": [
      "Data saved\n"
     ]
    }
   ],
   "execution_count": 32
  }
 ],
 "metadata": {
  "kernelspec": {
   "name": "python3",
   "language": "python",
   "display_name": "Python 3 (ipykernel)"
  }
 },
 "nbformat": 5,
 "nbformat_minor": 9
}
