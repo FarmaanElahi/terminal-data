{
 "cells": [
  {
   "cell_type": "code",
   "id": "initial_id",
   "metadata": {
    "collapsed": true
   },
   "source": [
    "\n",
    "import pandas as pd\n",
    "\n",
    "from utils.fundamentals import get_fundamentals\n",
    "from utils.industry import get_industry_classification\n",
    "from utils.pandas_utils import merge_df_safely\n",
    "from utils.rating import get_ratings\n",
    "from utils.technical import get_technicals\n",
    "from utils.tradingview import TradingView\n",
    "from utils.pandas_utils import make_df_ready_for_serialization\n",
    "from utils.bucket import storage_options"
   ],
   "outputs": [],
   "execution_count": null
  },
  {
   "metadata": {},
   "cell_type": "code",
   "source": "df = TradingView.get_base_symbols(1000)",
   "id": "18ff01dece50956",
   "outputs": [],
   "execution_count": null
  },
  {
   "metadata": {},
   "cell_type": "code",
   "source": [
    "from provider.tradingview.quote_scaler import TradingViewScaler, QuoteStreamEvent\n",
    "\n",
    "fields = [\n",
    "    \"ch\",\n",
    "    \"chp\",\n",
    "    \"current_session\",\n",
    "    \"lp\",\n",
    "    \"lp_time\",\n",
    "    \"pro_name\",\n",
    "    \"short_name\",\n",
    "    \"type\",\n",
    "    \"update_mode\",\n",
    "    \"volume\",\n",
    "]\n",
    "scaler = TradingViewScaler(quote_fields=fields)"
   ],
   "id": "9940e478b4d11f93",
   "outputs": [],
   "execution_count": null
  },
  {
   "metadata": {},
   "cell_type": "code",
   "source": "scaler.start()",
   "id": "f1f35789769e52d8",
   "outputs": [],
   "execution_count": null
  },
  {
   "metadata": {},
   "cell_type": "code",
   "source": "await scaler.add_tickers(df.index.to_list())",
   "id": "d689b9e37fd4938f",
   "outputs": [],
   "execution_count": null
  },
  {
   "metadata": {
    "jupyter": {
     "is_executing": true
    }
   },
   "cell_type": "code",
   "source": [
    "async for event_type, ticker, data in scaler.quote_events():\n",
    "    if event_type == QuoteStreamEvent.QUOTE_UPDATE:\n",
    "            pass"
   ],
   "id": "23d50f40bf5e3d34",
   "outputs": [],
   "execution_count": null
  }
 ],
 "metadata": {
  "kernelspec": {
   "display_name": "Python 3",
   "language": "python",
   "name": "python3"
  },
  "language_info": {
   "codemirror_mode": {
    "name": "ipython",
    "version": 2
   },
   "file_extension": ".py",
   "mimetype": "text/x-python",
   "name": "python",
   "nbconvert_exporter": "python",
   "pygments_lexer": "ipython2",
   "version": "2.7.6"
  }
 },
 "nbformat": 4,
 "nbformat_minor": 5
}
