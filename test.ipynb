{
 "cells": [
  {
   "cell_type": "code",
   "id": "initial_id",
   "metadata": {
    "collapsed": true,
    "ExecuteTime": {
     "end_time": "2025-05-11T10:58:55.995345Z",
     "start_time": "2025-05-11T10:58:55.352822Z"
    }
   },
   "source": [
    "from utils.tradingview import TradingView\n",
    "from utils.industry import get_industry_classification\n",
    "from utils.pandas_utils import merge_df_safely\n",
    "from utils.fundamentals import get_base_fundamentals"
   ],
   "outputs": [
    {
     "name": "stdout",
     "output_type": "stream",
     "text": [
      "OCI FS Configured\n"
     ]
    }
   ],
   "execution_count": 1
  },
  {
   "metadata": {
    "ExecuteTime": {
     "end_time": "2025-05-11T10:58:57.960119Z",
     "start_time": "2025-05-11T10:58:56.055192Z"
    }
   },
   "cell_type": "code",
   "source": "df = TradingView.get_base_symbols()",
   "id": "18ff01dece50956",
   "outputs": [],
   "execution_count": 2
  },
  {
   "metadata": {
    "ExecuteTime": {
     "end_time": "2025-05-11T10:59:01.296978Z",
     "start_time": "2025-05-11T10:58:57.982290Z"
    }
   },
   "cell_type": "code",
   "source": [
    "df = merge_df_safely(df, get_industry_classification())\n",
    "df = merge_df_safely(df, get_base_fundamentals())"
   ],
   "id": "47c742edf7e5886d",
   "outputs": [],
   "execution_count": 3
  },
  {
   "metadata": {
    "ExecuteTime": {
     "end_time": "2025-05-11T10:59:12.421459Z",
     "start_time": "2025-05-11T10:59:12.414336Z"
    }
   },
   "cell_type": "code",
   "source": "df.price_target_1y",
   "id": "552d65923b8d9344",
   "outputs": [
    {
     "data": {
      "text/plain": [
       "ticker\n",
       "NSE:RELIANCE       1560.314286\n",
       "NSE:HDFCBANK       2179.391304\n",
       "NSE:TCS            3786.340426\n",
       "NSE:AIRTELPP.E1            NaN\n",
       "NSE:BHARTIARTL     1904.090909\n",
       "                      ...     \n",
       "NSE:TBI                    NaN\n",
       "NSE:NIFTYIETF              NaN\n",
       "NSE:HDFCNIF100             NaN\n",
       "NSE:NIF100IETF             NaN\n",
       "NSE:GROWWEV                NaN\n",
       "Name: price_target_1y, Length: 2812, dtype: float64"
      ]
     },
     "execution_count": 4,
     "metadata": {},
     "output_type": "execute_result"
    }
   ],
   "execution_count": 4
  },
  {
   "metadata": {},
   "cell_type": "code",
   "outputs": [],
   "execution_count": null,
   "source": "",
   "id": "5ebaa6bfd74c7d3f"
  }
 ],
 "metadata": {
  "kernelspec": {
   "display_name": "Python 3",
   "language": "python",
   "name": "python3"
  },
  "language_info": {
   "codemirror_mode": {
    "name": "ipython",
    "version": 2
   },
   "file_extension": ".py",
   "mimetype": "text/x-python",
   "name": "python",
   "nbconvert_exporter": "python",
   "pygments_lexer": "ipython2",
   "version": "2.7.6"
  }
 },
 "nbformat": 4,
 "nbformat_minor": 5
}
