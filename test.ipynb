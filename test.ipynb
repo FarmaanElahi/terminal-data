{
 "cells": [
  {
   "cell_type": "code",
   "id": "initial_id",
   "metadata": {
    "collapsed": true,
    "ExecuteTime": {
     "end_time": "2025-05-11T17:15:10.963674Z",
     "start_time": "2025-05-11T17:15:08.995968Z"
    }
   },
   "source": [
    "\n",
    "\n",
    "from utils.fundamentals import get_fundamentals\n",
    "from utils.industry import get_industry_classification\n",
    "from utils.pandas_utils import merge_df_safely\n",
    "from utils.technical import get_technicals, get_market_candles\n",
    "from utils.tradingview import TradingView"
   ],
   "outputs": [
    {
     "name": "stdout",
     "output_type": "stream",
     "text": [
      "OCI FS Configured\n"
     ]
    }
   ],
   "execution_count": 1
  },
  {
   "metadata": {
    "ExecuteTime": {
     "end_time": "2025-05-11T17:15:13.003122Z",
     "start_time": "2025-05-11T17:15:11.048592Z"
    }
   },
   "cell_type": "code",
   "source": "df = TradingView.get_base_symbols()",
   "id": "18ff01dece50956",
   "outputs": [],
   "execution_count": 2
  },
  {
   "metadata": {
    "ExecuteTime": {
     "end_time": "2025-05-11T17:15:17.103958Z",
     "start_time": "2025-05-11T17:15:13.020896Z"
    }
   },
   "cell_type": "code",
   "source": [
    "df = merge_df_safely(df, get_industry_classification())\n",
    "df = merge_df_safely(df, get_fundamentals())"
   ],
   "id": "47c742edf7e5886d",
   "outputs": [],
   "execution_count": 3
  },
  {
   "metadata": {
    "ExecuteTime": {
     "end_time": "2025-05-11T17:16:26.476343Z",
     "start_time": "2025-05-11T17:15:17.113370Z"
    }
   },
   "cell_type": "code",
   "source": [
    "market_candles = await get_market_candles()\n",
    "df = merge_df_safely(df, await get_technicals(df, market_candles, df.index.to_list()))"
   ],
   "id": "7e64f670a7cf8a41",
   "outputs": [
    {
     "name": "stdout",
     "output_type": "stream",
     "text": [
      "Started: 1/1\n",
      "Completed: 1/1\n",
      "Started: 1/1\n",
      "Completed: 1/1\n"
     ]
    }
   ],
   "execution_count": 4
  },
  {
   "metadata": {
    "ExecuteTime": {
     "end_time": "2025-05-11T17:16:32.936372Z",
     "start_time": "2025-05-11T17:16:32.930261Z"
    }
   },
   "cell_type": "code",
   "source": "df.info(memory_usage=True)",
   "id": "8f5a4b9fce013618",
   "outputs": [
    {
     "name": "stdout",
     "output_type": "stream",
     "text": [
      "<class 'pandas.core.frame.DataFrame'>\n",
      "Index: 100 entries, NSE:RELIANCE to NSE:HDFCAMC\n",
      "Columns: 592 entries, name to RS_Value_12M\n",
      "dtypes: bool(84), category(9), datetime64[s](2), float64(482), int16(2), int64(2), object(11)\n",
      "memory usage: 410.9+ KB\n"
     ]
    }
   ],
   "execution_count": 7
  },
  {
   "metadata": {},
   "cell_type": "code",
   "outputs": [],
   "source": "",
   "id": "952a07e8ca176c05",
   "execution_count": null
  }
 ],
 "metadata": {
  "kernelspec": {
   "display_name": "Python 3",
   "language": "python",
   "name": "python3"
  },
  "language_info": {
   "codemirror_mode": {
    "name": "ipython",
    "version": 2
   },
   "file_extension": ".py",
   "mimetype": "text/x-python",
   "name": "python",
   "nbconvert_exporter": "python",
   "pygments_lexer": "ipython2",
   "version": "2.7.6"
  }
 },
 "nbformat": 4,
 "nbformat_minor": 5
}
