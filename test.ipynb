{
 "cells": [
  {
   "metadata": {
    "ExecuteTime": {
     "end_time": "2025-05-24T10:34:42.285863Z",
     "start_time": "2025-05-24T10:34:42.279133Z"
    }
   },
   "cell_type": "code",
   "source": [
    "from dotenv import load_dotenv\n",
    "load_dotenv('.env')"
   ],
   "id": "58e618dd7064a98",
   "outputs": [
    {
     "data": {
      "text/plain": [
       "True"
      ]
     },
     "execution_count": 1,
     "metadata": {},
     "output_type": "execute_result"
    }
   ],
   "execution_count": 1
  },
  {
   "cell_type": "code",
   "id": "initial_id",
   "metadata": {
    "collapsed": true,
    "ExecuteTime": {
     "end_time": "2025-05-24T10:34:42.932919Z",
     "start_time": "2025-05-24T10:34:42.346353Z"
    }
   },
   "source": [
    "\n",
    "import os\n",
    "\n",
    "from utils.fundamentals import get_fundamentals\n",
    "from utils.industry import get_industry_classification\n",
    "from utils.pandas_utils import merge_df_safely\n",
    "from utils.rating import get_ratings\n",
    "from utils.technical import get_technicals\n",
    "from utils.tradingview import TradingView"
   ],
   "outputs": [
    {
     "name": "stdout",
     "output_type": "stream",
     "text": [
      "OCI FS Configured\n"
     ]
    }
   ],
   "execution_count": 2
  },
  {
   "metadata": {
    "ExecuteTime": {
     "end_time": "2025-05-24T10:34:43.497848Z",
     "start_time": "2025-05-24T10:34:42.938889Z"
    }
   },
   "cell_type": "code",
   "source": [
    "df = TradingView.get_base_symbols()\n",
    "print(\"Base Symbols loaded\")"
   ],
   "id": "18ff01dece50956",
   "outputs": [
    {
     "name": "stdout",
     "output_type": "stream",
     "text": [
      "Base Symbols loaded\n"
     ]
    }
   ],
   "execution_count": 3
  },
  {
   "metadata": {
    "ExecuteTime": {
     "end_time": "2025-05-24T10:34:45.211568Z",
     "start_time": "2025-05-24T10:34:43.510352Z"
    }
   },
   "cell_type": "code",
   "source": [
    "df = TradingView.get_base_symbols()\n",
    "print(\"Base Symbols loaded\")\n"
   ],
   "id": "99f318e78d7bbae0",
   "outputs": [
    {
     "name": "stdout",
     "output_type": "stream",
     "text": [
      "Base Symbols loaded\n"
     ]
    }
   ],
   "execution_count": 4
  },
  {
   "metadata": {
    "ExecuteTime": {
     "end_time": "2025-05-24T10:35:28.914180Z",
     "start_time": "2025-05-24T10:34:46.409175Z"
    }
   },
   "cell_type": "code",
   "source": [
    "index_df = await  TradingView.get_index(df.columns)\n",
    "print(\"Index loaded\")"
   ],
   "id": "81c65d7d28ee4c4c",
   "outputs": [
    {
     "name": "stdout",
     "output_type": "stream",
     "text": [
      "Started: 1/1\n",
      "Completed: 1/1\n",
      "Index loaded\n"
     ]
    }
   ],
   "execution_count": 5
  },
  {
   "metadata": {
    "ExecuteTime": {
     "end_time": "2025-05-24T10:35:30.798784Z",
     "start_time": "2025-05-24T10:35:28.928995Z"
    }
   },
   "cell_type": "code",
   "source": [
    "df = merge_df_safely(df, get_industry_classification())\n",
    "print(\"Industry classification updated\")"
   ],
   "id": "396671b687b4008b",
   "outputs": [
    {
     "name": "stdout",
     "output_type": "stream",
     "text": [
      "Industry classification updated\n"
     ]
    }
   ],
   "execution_count": 6
  },
  {
   "metadata": {
    "ExecuteTime": {
     "end_time": "2025-05-24T10:35:32.723642Z",
     "start_time": "2025-05-24T10:35:30.825967Z"
    }
   },
   "cell_type": "code",
   "source": [
    "df = merge_df_safely(df, get_fundamentals())\n",
    "print(\"Fundamentals updated\")\n"
   ],
   "id": "9de259460d1cc8ed",
   "outputs": [
    {
     "name": "stdout",
     "output_type": "stream",
     "text": [
      "Fundamentals updated\n"
     ]
    }
   ],
   "execution_count": 7
  },
  {
   "metadata": {
    "ExecuteTime": {
     "end_time": "2025-05-24T10:42:33.131744Z",
     "start_time": "2025-05-24T10:35:32.743796Z"
    }
   },
   "cell_type": "code",
   "source": [
    "df = merge_df_safely(df, await get_technicals(df, df.index.to_list()))\n",
    "print(\"Technicals updated\")\n"
   ],
   "id": "6dbbb8559db5251",
   "outputs": [
    {
     "name": "stdout",
     "output_type": "stream",
     "text": [
      "Started: 1/1\n",
      "Completed: 1/1\n",
      "Started: 1/5\n",
      "Completed: 1/5\n",
      "Started: 2/5\n",
      "Completed: 2/5\n",
      "Started: 3/5\n",
      "Completed: 3/5\n",
      "Started: 4/5\n",
      "Completed: 4/5\n",
      "Started: 5/5\n",
      "Completed: 5/5\n",
      "Technicals updated\n"
     ]
    }
   ],
   "execution_count": 8
  },
  {
   "metadata": {
    "ExecuteTime": {
     "end_time": "2025-05-24T10:56:23.342418Z",
     "start_time": "2025-05-24T10:56:23.338748Z"
    }
   },
   "cell_type": "code",
   "source": [
    "import pandas as pd\n",
    "def sector_industry_strength_rating2(df: pd.DataFrame) -> pd.DataFrame:\n",
    "    \"\"\"\n",
    "    Computes group strength rankings based on median returns for valid symbols.\n",
    "\n",
    "    - For each timeframe (e.g. 3M), filters symbols with price_volume over 1 Cr\n",
    "    - Excludes type == 'stock'\n",
    "    - Requires groups with ≥ 2 valid symbols\n",
    "    - Adds ranking and return columns for each group (sector, industry, etc.)\n",
    "\n",
    "    Returns:\n",
    "        pd.DataFrame with *_ranking_<timeframe>, *_return_<timeframe> columns.\n",
    "    \"\"\"\n",
    "    df = df.copy()\n",
    "    min_liquidity = 1 * 10 ** 7  # 1 Cr\n",
    "\n",
    "    perf_cols = [\n",
    "        \"price_perf_1D\", \"price_perf_1W\", \"price_perf_1M\",\n",
    "        \"price_perf_3M\", \"price_perf_6M\", \"price_perf_9M\", \"price_perf_12M\"\n",
    "    ]\n",
    "\n",
    "    volume_map = {\n",
    "        \"1D\": \"price_volume\",\n",
    "        \"1W\": \"price_volume_sma_5D\",\n",
    "        \"1M\": \"price_volume_sma_21D\",\n",
    "        \"3M\": \"price_volume_sma_63D\",\n",
    "        \"6M\": \"price_volume_sma_126D\",\n",
    "        \"9M\": \"price_volume_sma_189D\",\n",
    "        \"12M\": \"price_volume_sma_252D\"\n",
    "    }\n",
    "\n",
    "    def compute_group_rankings(df_all, group_col):\n",
    "        result_dict = {}\n",
    "\n",
    "        for perf_col in perf_cols:\n",
    "            timeframe = perf_col.split('_')[-1]\n",
    "            volume_col = volume_map.get(timeframe)\n",
    "            if volume_col not in df_all.columns:\n",
    "                continue\n",
    "\n",
    "            valid_df = df_all[\n",
    "                (df_all[\"type\"].str.lower() == \"stock\") &\n",
    "                (df_all[volume_col] > min_liquidity)\n",
    "            ].copy()\n",
    "\n",
    "            group_counts = valid_df[group_col].value_counts()\n",
    "            valid_groups = group_counts[group_counts >= 2].index\n",
    "            valid_df = valid_df[valid_df[group_col].isin(valid_groups)]\n",
    "\n",
    "            return_col = f\"{group_col}_return_{timeframe}\"\n",
    "            rank_col = f\"{group_col}_ranking_{timeframe}\"\n",
    "\n",
    "            group_median = valid_df.groupby(group_col)[perf_col].median().rename(return_col)\n",
    "            group_rank = group_median.rank(method='min', ascending=False).astype(pd.Int64Dtype()).rename(rank_col)\n",
    "\n",
    "            result_dict[return_col] = group_median\n",
    "            result_dict[rank_col] = group_rank\n",
    "\n",
    "        return pd.concat(result_dict.values(), axis=1)\n",
    "\n",
    "    def merge_group_info(df_base, group_col):\n",
    "        group_metrics = compute_group_rankings(df_base, group_col)\n",
    "        df_merged = df_base.merge(group_metrics, how='left', left_on=group_col, right_index=True)\n",
    "        return df_merged\n",
    "\n",
    "    # Apply to each group level\n",
    "    df_result = df.copy()\n",
    "    for group_col in ['sector', 'industry', 'sub_industry', 'industry_2']:\n",
    "        df_result = merge_group_info(df_result, group_col)\n",
    "\n",
    "    # Fill missing values\n",
    "    for group_col in ['sector', 'industry', 'sub_industry', 'industry_2']:\n",
    "        for col in df_result.columns:\n",
    "            if col.startswith(f\"{group_col}_return_\"):\n",
    "                df_result[col] = df_result[col].fillna(-9999)\n",
    "            elif col.startswith(f\"{group_col}_ranking_\"):\n",
    "                df_result[col] = df_result[col].fillna(9999).astype(pd.Int64Dtype())\n",
    "\n",
    "    return df_result"
   ],
   "id": "427123a86bae943e",
   "outputs": [],
   "execution_count": 49
  },
  {
   "metadata": {
    "ExecuteTime": {
     "end_time": "2025-05-24T10:56:45.924042Z",
     "start_time": "2025-05-24T10:56:45.762565Z"
    }
   },
   "cell_type": "code",
   "source": "sector_industry_strength_rating2(df)[['industry','industry_ranking_1M']]",
   "id": "82c377ff324c2076",
   "outputs": [
    {
     "name": "stderr",
     "output_type": "stream",
     "text": [
      "/var/folders/6j/dvdvpwvj2gq3fdjs2dw420c40000gn/T/ipykernel_23920/3993359122.py:53: FutureWarning: The default of observed=False is deprecated and will be changed to True in a future version of pandas. Pass observed=False to retain current behavior or observed=True to adopt the future default and silence this warning.\n",
      "  group_median = valid_df.groupby(group_col)[perf_col].median().rename(return_col)\n",
      "/var/folders/6j/dvdvpwvj2gq3fdjs2dw420c40000gn/T/ipykernel_23920/3993359122.py:53: FutureWarning: The default of observed=False is deprecated and will be changed to True in a future version of pandas. Pass observed=False to retain current behavior or observed=True to adopt the future default and silence this warning.\n",
      "  group_median = valid_df.groupby(group_col)[perf_col].median().rename(return_col)\n",
      "/var/folders/6j/dvdvpwvj2gq3fdjs2dw420c40000gn/T/ipykernel_23920/3993359122.py:53: FutureWarning: The default of observed=False is deprecated and will be changed to True in a future version of pandas. Pass observed=False to retain current behavior or observed=True to adopt the future default and silence this warning.\n",
      "  group_median = valid_df.groupby(group_col)[perf_col].median().rename(return_col)\n",
      "/var/folders/6j/dvdvpwvj2gq3fdjs2dw420c40000gn/T/ipykernel_23920/3993359122.py:53: FutureWarning: The default of observed=False is deprecated and will be changed to True in a future version of pandas. Pass observed=False to retain current behavior or observed=True to adopt the future default and silence this warning.\n",
      "  group_median = valid_df.groupby(group_col)[perf_col].median().rename(return_col)\n",
      "/var/folders/6j/dvdvpwvj2gq3fdjs2dw420c40000gn/T/ipykernel_23920/3993359122.py:53: FutureWarning: The default of observed=False is deprecated and will be changed to True in a future version of pandas. Pass observed=False to retain current behavior or observed=True to adopt the future default and silence this warning.\n",
      "  group_median = valid_df.groupby(group_col)[perf_col].median().rename(return_col)\n",
      "/var/folders/6j/dvdvpwvj2gq3fdjs2dw420c40000gn/T/ipykernel_23920/3993359122.py:53: FutureWarning: The default of observed=False is deprecated and will be changed to True in a future version of pandas. Pass observed=False to retain current behavior or observed=True to adopt the future default and silence this warning.\n",
      "  group_median = valid_df.groupby(group_col)[perf_col].median().rename(return_col)\n",
      "/var/folders/6j/dvdvpwvj2gq3fdjs2dw420c40000gn/T/ipykernel_23920/3993359122.py:53: FutureWarning: The default of observed=False is deprecated and will be changed to True in a future version of pandas. Pass observed=False to retain current behavior or observed=True to adopt the future default and silence this warning.\n",
      "  group_median = valid_df.groupby(group_col)[perf_col].median().rename(return_col)\n"
     ]
    },
    {
     "data": {
      "text/plain": [
       "                                    industry  industry_ranking_1M\n",
       "ticker                                                           \n",
       "NSE:RELIANCE              Petroleum Products                   25\n",
       "NSE:HDFCBANK                           Banks                   51\n",
       "NSE:TCS                        IT - Software                   10\n",
       "NSE:AIRTELPP.E1  Wireless telecommunications                 9999\n",
       "NSE:BHARTIARTL            Telecom - Services                   43\n",
       "...                                      ...                  ...\n",
       "NSE:AJOONI                     Food Products                   54\n",
       "NSE:MYMUDRA           Finance/Rental/Leasing                    8\n",
       "NSE:BRACEPORT           Air freight/Couriers                 9999\n",
       "NSE:DBSTOCKBRO               Capital Markets                   21\n",
       "NSE:VOLERCAR            Other transportation                 9999\n",
       "\n",
       "[2118 rows x 2 columns]"
      ],
      "text/html": [
       "<div>\n",
       "<style scoped>\n",
       "    .dataframe tbody tr th:only-of-type {\n",
       "        vertical-align: middle;\n",
       "    }\n",
       "\n",
       "    .dataframe tbody tr th {\n",
       "        vertical-align: top;\n",
       "    }\n",
       "\n",
       "    .dataframe thead th {\n",
       "        text-align: right;\n",
       "    }\n",
       "</style>\n",
       "<table border=\"1\" class=\"dataframe\">\n",
       "  <thead>\n",
       "    <tr style=\"text-align: right;\">\n",
       "      <th></th>\n",
       "      <th>industry</th>\n",
       "      <th>industry_ranking_1M</th>\n",
       "    </tr>\n",
       "    <tr>\n",
       "      <th>ticker</th>\n",
       "      <th></th>\n",
       "      <th></th>\n",
       "    </tr>\n",
       "  </thead>\n",
       "  <tbody>\n",
       "    <tr>\n",
       "      <th>NSE:RELIANCE</th>\n",
       "      <td>Petroleum Products</td>\n",
       "      <td>25</td>\n",
       "    </tr>\n",
       "    <tr>\n",
       "      <th>NSE:HDFCBANK</th>\n",
       "      <td>Banks</td>\n",
       "      <td>51</td>\n",
       "    </tr>\n",
       "    <tr>\n",
       "      <th>NSE:TCS</th>\n",
       "      <td>IT - Software</td>\n",
       "      <td>10</td>\n",
       "    </tr>\n",
       "    <tr>\n",
       "      <th>NSE:AIRTELPP.E1</th>\n",
       "      <td>Wireless telecommunications</td>\n",
       "      <td>9999</td>\n",
       "    </tr>\n",
       "    <tr>\n",
       "      <th>NSE:BHARTIARTL</th>\n",
       "      <td>Telecom - Services</td>\n",
       "      <td>43</td>\n",
       "    </tr>\n",
       "    <tr>\n",
       "      <th>...</th>\n",
       "      <td>...</td>\n",
       "      <td>...</td>\n",
       "    </tr>\n",
       "    <tr>\n",
       "      <th>NSE:AJOONI</th>\n",
       "      <td>Food Products</td>\n",
       "      <td>54</td>\n",
       "    </tr>\n",
       "    <tr>\n",
       "      <th>NSE:MYMUDRA</th>\n",
       "      <td>Finance/Rental/Leasing</td>\n",
       "      <td>8</td>\n",
       "    </tr>\n",
       "    <tr>\n",
       "      <th>NSE:BRACEPORT</th>\n",
       "      <td>Air freight/Couriers</td>\n",
       "      <td>9999</td>\n",
       "    </tr>\n",
       "    <tr>\n",
       "      <th>NSE:DBSTOCKBRO</th>\n",
       "      <td>Capital Markets</td>\n",
       "      <td>21</td>\n",
       "    </tr>\n",
       "    <tr>\n",
       "      <th>NSE:VOLERCAR</th>\n",
       "      <td>Other transportation</td>\n",
       "      <td>9999</td>\n",
       "    </tr>\n",
       "  </tbody>\n",
       "</table>\n",
       "<p>2118 rows × 2 columns</p>\n",
       "</div>"
      ]
     },
     "execution_count": 51,
     "metadata": {},
     "output_type": "execute_result"
    }
   ],
   "execution_count": 51
  },
  {
   "metadata": {},
   "cell_type": "code",
   "source": [
    "df = merge_df_safely(df, get_ratings(df))\n",
    "print(\"Rating updated\")"
   ],
   "id": "d0a3c4e7ccec38ac",
   "outputs": [],
   "execution_count": null
  },
  {
   "metadata": {},
   "cell_type": "code",
   "source": "",
   "id": "6cb37db779aa7c7",
   "outputs": [],
   "execution_count": null
  }
 ],
 "metadata": {
  "kernelspec": {
   "display_name": "Python 3",
   "language": "python",
   "name": "python3"
  },
  "language_info": {
   "codemirror_mode": {
    "name": "ipython",
    "version": 2
   },
   "file_extension": ".py",
   "mimetype": "text/x-python",
   "name": "python",
   "nbconvert_exporter": "python",
   "pygments_lexer": "ipython2",
   "version": "2.7.6"
  }
 },
 "nbformat": 4,
 "nbformat_minor": 5
}
